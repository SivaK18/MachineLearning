{
 "cells": [
  {
   "cell_type": "code",
   "execution_count": 1,
   "metadata": {},
   "outputs": [],
   "source": [
    "import pandas as pd\n",
    "import numpy as np\n",
    "from sklearn.model_selection import train_test_split\n",
    "from sklearn.preprocessing import StandardScaler\n",
    "from sklearn.svm import SVC\n",
    "from sklearn.metrics import confusion_matrix\n",
    "from sklearn.metrics import f1_score\n",
    "from sklearn.metrics import accuracy_score\n",
    "from sklearn.feature_selection import SelectKBest\n",
    "from sklearn.feature_selection import chi2\n",
    "from sklearn.feature_selection import VarianceThreshold\n",
    "import matplotlib.pyplot as plt \n",
    "import seaborn as sns\n",
    "%matplotlib inline\n",
    "\n",
    "#importing libs"
   ]
  },
  {
   "cell_type": "code",
   "execution_count": 2,
   "metadata": {},
   "outputs": [],
   "source": [
    "#loading dataset\n",
    "dataset = pd.read_csv('diabetes.csv')\n"
   ]
  },
  {
   "cell_type": "code",
   "execution_count": 3,
   "metadata": {
    "scrolled": true
   },
   "outputs": [
    {
     "name": "stdout",
     "output_type": "stream",
     "text": [
      "       Pregnancies     Glucose  BloodPressure  SkinThickness     Insulin  \\\n",
      "count   768.000000  768.000000     768.000000     768.000000  768.000000   \n",
      "mean      3.845052  120.894531      69.105469      20.536458   79.799479   \n",
      "std       3.369578   31.972618      19.355807      15.952218  115.244002   \n",
      "min       0.000000    0.000000       0.000000       0.000000    0.000000   \n",
      "25%       1.000000   99.000000      62.000000       0.000000    0.000000   \n",
      "50%       3.000000  117.000000      72.000000      23.000000   30.500000   \n",
      "75%       6.000000  140.250000      80.000000      32.000000  127.250000   \n",
      "max      17.000000  199.000000     122.000000      99.000000  846.000000   \n",
      "\n",
      "              BMI  DiabetesPedigreeFunction         Age     Outcome  \n",
      "count  768.000000                768.000000  768.000000  768.000000  \n",
      "mean    31.992578                  0.471876   33.240885    0.348958  \n",
      "std      7.884160                  0.331329   11.760232    0.476951  \n",
      "min      0.000000                  0.078000   21.000000    0.000000  \n",
      "25%     27.300000                  0.243750   24.000000    0.000000  \n",
      "50%     32.000000                  0.372500   29.000000    0.000000  \n",
      "75%     36.600000                  0.626250   41.000000    1.000000  \n",
      "max     67.100000                  2.420000   81.000000    1.000000  \n"
     ]
    }
   ],
   "source": [
    "print (dataset.describe())"
   ]
  },
  {
   "cell_type": "code",
   "execution_count": 4,
   "metadata": {},
   "outputs": [
    {
     "name": "stdout",
     "output_type": "stream",
     "text": [
      "     Pregnancies  Glucose  BloodPressure  SkinThickness  Insulin   BMI  \\\n",
      "0              6      148             72             35        0  33.6   \n",
      "1              1       85             66             29        0  26.6   \n",
      "2              8      183             64              0        0  23.3   \n",
      "3              1       89             66             23       94  28.1   \n",
      "4              0      137             40             35      168  43.1   \n",
      "5              5      116             74              0        0  25.6   \n",
      "6              3       78             50             32       88  31.0   \n",
      "7             10      115              0              0        0  35.3   \n",
      "8              2      197             70             45      543  30.5   \n",
      "9              8      125             96              0        0   0.0   \n",
      "10             4      110             92              0        0  37.6   \n",
      "11            10      168             74              0        0  38.0   \n",
      "12            10      139             80              0        0  27.1   \n",
      "13             1      189             60             23      846  30.1   \n",
      "14             5      166             72             19      175  25.8   \n",
      "15             7      100              0              0        0  30.0   \n",
      "16             0      118             84             47      230  45.8   \n",
      "17             7      107             74              0        0  29.6   \n",
      "18             1      103             30             38       83  43.3   \n",
      "19             1      115             70             30       96  34.6   \n",
      "20             3      126             88             41      235  39.3   \n",
      "21             8       99             84              0        0  35.4   \n",
      "22             7      196             90              0        0  39.8   \n",
      "23             9      119             80             35        0  29.0   \n",
      "24            11      143             94             33      146  36.6   \n",
      "25            10      125             70             26      115  31.1   \n",
      "26             7      147             76              0        0  39.4   \n",
      "27             1       97             66             15      140  23.2   \n",
      "28            13      145             82             19      110  22.2   \n",
      "29             5      117             92              0        0  34.1   \n",
      "..           ...      ...            ...            ...      ...   ...   \n",
      "738            2       99             60             17      160  36.6   \n",
      "739            1      102             74              0        0  39.5   \n",
      "740           11      120             80             37      150  42.3   \n",
      "741            3      102             44             20       94  30.8   \n",
      "742            1      109             58             18      116  28.5   \n",
      "743            9      140             94              0        0  32.7   \n",
      "744           13      153             88             37      140  40.6   \n",
      "745           12      100             84             33      105  30.0   \n",
      "746            1      147             94             41        0  49.3   \n",
      "747            1       81             74             41       57  46.3   \n",
      "748            3      187             70             22      200  36.4   \n",
      "749            6      162             62              0        0  24.3   \n",
      "750            4      136             70              0        0  31.2   \n",
      "751            1      121             78             39       74  39.0   \n",
      "752            3      108             62             24        0  26.0   \n",
      "753            0      181             88             44      510  43.3   \n",
      "754            8      154             78             32        0  32.4   \n",
      "755            1      128             88             39      110  36.5   \n",
      "756            7      137             90             41        0  32.0   \n",
      "757            0      123             72              0        0  36.3   \n",
      "758            1      106             76              0        0  37.5   \n",
      "759            6      190             92              0        0  35.5   \n",
      "760            2       88             58             26       16  28.4   \n",
      "761            9      170             74             31        0  44.0   \n",
      "762            9       89             62              0        0  22.5   \n",
      "763           10      101             76             48      180  32.9   \n",
      "764            2      122             70             27        0  36.8   \n",
      "765            5      121             72             23      112  26.2   \n",
      "766            1      126             60              0        0  30.1   \n",
      "767            1       93             70             31        0  30.4   \n",
      "\n",
      "     DiabetesPedigreeFunction  Age  \n",
      "0                       0.627   50  \n",
      "1                       0.351   31  \n",
      "2                       0.672   32  \n",
      "3                       0.167   21  \n",
      "4                       2.288   33  \n",
      "5                       0.201   30  \n",
      "6                       0.248   26  \n",
      "7                       0.134   29  \n",
      "8                       0.158   53  \n",
      "9                       0.232   54  \n",
      "10                      0.191   30  \n",
      "11                      0.537   34  \n",
      "12                      1.441   57  \n",
      "13                      0.398   59  \n",
      "14                      0.587   51  \n",
      "15                      0.484   32  \n",
      "16                      0.551   31  \n",
      "17                      0.254   31  \n",
      "18                      0.183   33  \n",
      "19                      0.529   32  \n",
      "20                      0.704   27  \n",
      "21                      0.388   50  \n",
      "22                      0.451   41  \n",
      "23                      0.263   29  \n",
      "24                      0.254   51  \n",
      "25                      0.205   41  \n",
      "26                      0.257   43  \n",
      "27                      0.487   22  \n",
      "28                      0.245   57  \n",
      "29                      0.337   38  \n",
      "..                        ...  ...  \n",
      "738                     0.453   21  \n",
      "739                     0.293   42  \n",
      "740                     0.785   48  \n",
      "741                     0.400   26  \n",
      "742                     0.219   22  \n",
      "743                     0.734   45  \n",
      "744                     1.174   39  \n",
      "745                     0.488   46  \n",
      "746                     0.358   27  \n",
      "747                     1.096   32  \n",
      "748                     0.408   36  \n",
      "749                     0.178   50  \n",
      "750                     1.182   22  \n",
      "751                     0.261   28  \n",
      "752                     0.223   25  \n",
      "753                     0.222   26  \n",
      "754                     0.443   45  \n",
      "755                     1.057   37  \n",
      "756                     0.391   39  \n",
      "757                     0.258   52  \n",
      "758                     0.197   26  \n",
      "759                     0.278   66  \n",
      "760                     0.766   22  \n",
      "761                     0.403   43  \n",
      "762                     0.142   33  \n",
      "763                     0.171   63  \n",
      "764                     0.340   27  \n",
      "765                     0.245   30  \n",
      "766                     0.349   47  \n",
      "767                     0.315   23  \n",
      "\n",
      "[768 rows x 8 columns]\n"
     ]
    }
   ],
   "source": [
    "#for each row the 1st eight coloumns is input -  8 features\n",
    "\n",
    "X = dataset.iloc[:,0:8]\n",
    "print(X)\n"
   ]
  },
  {
   "cell_type": "code",
   "execution_count": 5,
   "metadata": {},
   "outputs": [
    {
     "name": "stdout",
     "output_type": "stream",
     "text": [
      "0      1\n",
      "1      0\n",
      "2      1\n",
      "3      0\n",
      "4      1\n",
      "5      0\n",
      "6      1\n",
      "7      0\n",
      "8      1\n",
      "9      1\n",
      "10     0\n",
      "11     1\n",
      "12     0\n",
      "13     1\n",
      "14     1\n",
      "15     1\n",
      "16     1\n",
      "17     1\n",
      "18     0\n",
      "19     1\n",
      "20     0\n",
      "21     0\n",
      "22     1\n",
      "23     1\n",
      "24     1\n",
      "25     1\n",
      "26     1\n",
      "27     0\n",
      "28     0\n",
      "29     0\n",
      "      ..\n",
      "738    0\n",
      "739    1\n",
      "740    1\n",
      "741    0\n",
      "742    0\n",
      "743    1\n",
      "744    0\n",
      "745    0\n",
      "746    1\n",
      "747    0\n",
      "748    1\n",
      "749    1\n",
      "750    1\n",
      "751    0\n",
      "752    0\n",
      "753    1\n",
      "754    1\n",
      "755    1\n",
      "756    0\n",
      "757    1\n",
      "758    0\n",
      "759    1\n",
      "760    0\n",
      "761    1\n",
      "762    0\n",
      "763    0\n",
      "764    0\n",
      "765    0\n",
      "766    1\n",
      "767    0\n",
      "Name: Outcome, Length: 768, dtype: int64\n"
     ]
    }
   ],
   "source": [
    "#output is in 9th column\n",
    "\n",
    "Y = dataset.iloc[:,8]\n",
    "print(Y)"
   ]
  },
  {
   "cell_type": "code",
   "execution_count": 6,
   "metadata": {},
   "outputs": [
    {
     "name": "stdout",
     "output_type": "stream",
     "text": [
      "     Pregnancies  Glucose  BloodPressure  SkinThickness  Insulin   BMI  \\\n",
      "0              6      148             72             35        0  33.6   \n",
      "1              1       85             66             29        0  26.6   \n",
      "2              8      183             64              0        0  23.3   \n",
      "3              1       89             66             23       94  28.1   \n",
      "4              0      137             40             35      168  43.1   \n",
      "5              5      116             74              0        0  25.6   \n",
      "6              3       78             50             32       88  31.0   \n",
      "7             10      115              0              0        0  35.3   \n",
      "8              2      197             70             45      543  30.5   \n",
      "9              8      125             96              0        0   0.0   \n",
      "10             4      110             92              0        0  37.6   \n",
      "11            10      168             74              0        0  38.0   \n",
      "12            10      139             80              0        0  27.1   \n",
      "13             1      189             60             23      846  30.1   \n",
      "14             5      166             72             19      175  25.8   \n",
      "15             7      100              0              0        0  30.0   \n",
      "16             0      118             84             47      230  45.8   \n",
      "17             7      107             74              0        0  29.6   \n",
      "18             1      103             30             38       83  43.3   \n",
      "19             1      115             70             30       96  34.6   \n",
      "20             3      126             88             41      235  39.3   \n",
      "21             8       99             84              0        0  35.4   \n",
      "22             7      196             90              0        0  39.8   \n",
      "23             9      119             80             35        0  29.0   \n",
      "24            11      143             94             33      146  36.6   \n",
      "25            10      125             70             26      115  31.1   \n",
      "26             7      147             76              0        0  39.4   \n",
      "27             1       97             66             15      140  23.2   \n",
      "28            13      145             82             19      110  22.2   \n",
      "29             5      117             92              0        0  34.1   \n",
      "..           ...      ...            ...            ...      ...   ...   \n",
      "738            2       99             60             17      160  36.6   \n",
      "739            1      102             74              0        0  39.5   \n",
      "740           11      120             80             37      150  42.3   \n",
      "741            3      102             44             20       94  30.8   \n",
      "742            1      109             58             18      116  28.5   \n",
      "743            9      140             94              0        0  32.7   \n",
      "744           13      153             88             37      140  40.6   \n",
      "745           12      100             84             33      105  30.0   \n",
      "746            1      147             94             41        0  49.3   \n",
      "747            1       81             74             41       57  46.3   \n",
      "748            3      187             70             22      200  36.4   \n",
      "749            6      162             62              0        0  24.3   \n",
      "750            4      136             70              0        0  31.2   \n",
      "751            1      121             78             39       74  39.0   \n",
      "752            3      108             62             24        0  26.0   \n",
      "753            0      181             88             44      510  43.3   \n",
      "754            8      154             78             32        0  32.4   \n",
      "755            1      128             88             39      110  36.5   \n",
      "756            7      137             90             41        0  32.0   \n",
      "757            0      123             72              0        0  36.3   \n",
      "758            1      106             76              0        0  37.5   \n",
      "759            6      190             92              0        0  35.5   \n",
      "760            2       88             58             26       16  28.4   \n",
      "761            9      170             74             31        0  44.0   \n",
      "762            9       89             62              0        0  22.5   \n",
      "763           10      101             76             48      180  32.9   \n",
      "764            2      122             70             27        0  36.8   \n",
      "765            5      121             72             23      112  26.2   \n",
      "766            1      126             60              0        0  30.1   \n",
      "767            1       93             70             31        0  30.4   \n",
      "\n",
      "     DiabetesPedigreeFunction  Age  Outcome  \n",
      "0                       0.627   50        1  \n",
      "1                       0.351   31        0  \n",
      "2                       0.672   32        1  \n",
      "3                       0.167   21        0  \n",
      "4                       2.288   33        1  \n",
      "5                       0.201   30        0  \n",
      "6                       0.248   26        1  \n",
      "7                       0.134   29        0  \n",
      "8                       0.158   53        1  \n",
      "9                       0.232   54        1  \n",
      "10                      0.191   30        0  \n",
      "11                      0.537   34        1  \n",
      "12                      1.441   57        0  \n",
      "13                      0.398   59        1  \n",
      "14                      0.587   51        1  \n",
      "15                      0.484   32        1  \n",
      "16                      0.551   31        1  \n",
      "17                      0.254   31        1  \n",
      "18                      0.183   33        0  \n",
      "19                      0.529   32        1  \n",
      "20                      0.704   27        0  \n",
      "21                      0.388   50        0  \n",
      "22                      0.451   41        1  \n",
      "23                      0.263   29        1  \n",
      "24                      0.254   51        1  \n",
      "25                      0.205   41        1  \n",
      "26                      0.257   43        1  \n",
      "27                      0.487   22        0  \n",
      "28                      0.245   57        0  \n",
      "29                      0.337   38        0  \n",
      "..                        ...  ...      ...  \n",
      "738                     0.453   21        0  \n",
      "739                     0.293   42        1  \n",
      "740                     0.785   48        1  \n",
      "741                     0.400   26        0  \n",
      "742                     0.219   22        0  \n",
      "743                     0.734   45        1  \n",
      "744                     1.174   39        0  \n",
      "745                     0.488   46        0  \n",
      "746                     0.358   27        1  \n",
      "747                     1.096   32        0  \n",
      "748                     0.408   36        1  \n",
      "749                     0.178   50        1  \n",
      "750                     1.182   22        1  \n",
      "751                     0.261   28        0  \n",
      "752                     0.223   25        0  \n",
      "753                     0.222   26        1  \n",
      "754                     0.443   45        1  \n",
      "755                     1.057   37        1  \n",
      "756                     0.391   39        0  \n",
      "757                     0.258   52        1  \n",
      "758                     0.197   26        0  \n",
      "759                     0.278   66        1  \n",
      "760                     0.766   22        0  \n",
      "761                     0.403   43        1  \n",
      "762                     0.142   33        0  \n",
      "763                     0.171   63        0  \n",
      "764                     0.340   27        0  \n",
      "765                     0.245   30        0  \n",
      "766                     0.349   47        1  \n",
      "767                     0.315   23        0  \n",
      "\n",
      "[768 rows x 9 columns]\n"
     ]
    }
   ],
   "source": [
    "#view the entire correlation for a feature and ouput\n",
    "Z = dataset.iloc[:,:]\n",
    "print(Z)"
   ]
  },
  {
   "cell_type": "code",
   "execution_count": 7,
   "metadata": {},
   "outputs": [
    {
     "data": {
      "text/plain": [
       "<matplotlib.axes._subplots.AxesSubplot at 0x1cba495cc50>"
      ]
     },
     "execution_count": 7,
     "metadata": {},
     "output_type": "execute_result"
    },
    {
     "data": {
      "image/png": "[encoded data removed]",
      "text/plain": [
       "<Figure size 432x288 with 2 Axes>"
      ]
     },
     "metadata": {
      "needs_background": "light"
     },
     "output_type": "display_data"
    }
   ],
   "source": [
    "sns.heatmap(Z.corr(),annot= True)"
   ]
  },
  {
   "cell_type": "code",
   "execution_count": 8,
   "metadata": {},
   "outputs": [],
   "source": [
    "#this plot says glucose is an important feature as it's 50% sure that you have diabetes if you have high glucose"
   ]
  },
  {
   "cell_type": "code",
   "execution_count": 9,
   "metadata": {},
   "outputs": [
    {
     "data": {
      "text/plain": [
       "<matplotlib.axes._subplots.AxesSubplot at 0x1cb9f71f358>"
      ]
     },
     "execution_count": 9,
     "metadata": {},
     "output_type": "execute_result"
    },
    {
     "data": {
      "image/png": "[encoded data removed]",
      "text/plain": [
       "<Figure size 432x288 with 2 Axes>"
      ]
     },
     "metadata": {
      "needs_background": "light"
     },
     "output_type": "display_data"
    }
   ],
   "source": [
    "sns.heatmap(X.corr(),annot=True)"
   ]
  },
  {
   "cell_type": "code",
   "execution_count": 10,
   "metadata": {},
   "outputs": [
    {
     "data": {
      "text/html": [
       "<div>\n",
       "<style scoped>\n",
       "    .dataframe tbody tr th:only-of-type {\n",
       "        vertical-align: middle;\n",
       "    }\n",
       "\n",
       "    .dataframe tbody tr th {\n",
       "        vertical-align: top;\n",
       "    }\n",
       "\n",
       "    .dataframe thead th {\n",
       "        text-align: right;\n",
       "    }\n",
       "</style>\n",
       "<table border=\"1\" class=\"dataframe\">\n",
       "  <thead>\n",
       "    <tr style=\"text-align: right;\">\n",
       "      <th></th>\n",
       "      <th>Pregnancies</th>\n",
       "      <th>Glucose</th>\n",
       "      <th>BloodPressure</th>\n",
       "      <th>SkinThickness</th>\n",
       "      <th>Insulin</th>\n",
       "      <th>BMI</th>\n",
       "      <th>DiabetesPedigreeFunction</th>\n",
       "      <th>Age</th>\n",
       "    </tr>\n",
       "  </thead>\n",
       "  <tbody>\n",
       "    <tr>\n",
       "      <th>0</th>\n",
       "      <td>6</td>\n",
       "      <td>148</td>\n",
       "      <td>72</td>\n",
       "      <td>35</td>\n",
       "      <td>0</td>\n",
       "      <td>33.6</td>\n",
       "      <td>0.627</td>\n",
       "      <td>50</td>\n",
       "    </tr>\n",
       "    <tr>\n",
       "      <th>1</th>\n",
       "      <td>1</td>\n",
       "      <td>85</td>\n",
       "      <td>66</td>\n",
       "      <td>29</td>\n",
       "      <td>0</td>\n",
       "      <td>26.6</td>\n",
       "      <td>0.351</td>\n",
       "      <td>31</td>\n",
       "    </tr>\n",
       "    <tr>\n",
       "      <th>2</th>\n",
       "      <td>8</td>\n",
       "      <td>183</td>\n",
       "      <td>64</td>\n",
       "      <td>0</td>\n",
       "      <td>0</td>\n",
       "      <td>23.3</td>\n",
       "      <td>0.672</td>\n",
       "      <td>32</td>\n",
       "    </tr>\n",
       "    <tr>\n",
       "      <th>3</th>\n",
       "      <td>1</td>\n",
       "      <td>89</td>\n",
       "      <td>66</td>\n",
       "      <td>23</td>\n",
       "      <td>94</td>\n",
       "      <td>28.1</td>\n",
       "      <td>0.167</td>\n",
       "      <td>21</td>\n",
       "    </tr>\n",
       "    <tr>\n",
       "      <th>4</th>\n",
       "      <td>0</td>\n",
       "      <td>137</td>\n",
       "      <td>40</td>\n",
       "      <td>35</td>\n",
       "      <td>168</td>\n",
       "      <td>43.1</td>\n",
       "      <td>2.288</td>\n",
       "      <td>33</td>\n",
       "    </tr>\n",
       "  </tbody>\n",
       "</table>\n",
       "</div>"
      ],
      "text/plain": [
       "   Pregnancies  Glucose  BloodPressure  SkinThickness  Insulin   BMI  \\\n",
       "0            6      148             72             35        0  33.6   \n",
       "1            1       85             66             29        0  26.6   \n",
       "2            8      183             64              0        0  23.3   \n",
       "3            1       89             66             23       94  28.1   \n",
       "4            0      137             40             35      168  43.1   \n",
       "\n",
       "   DiabetesPedigreeFunction  Age  \n",
       "0                     0.627   50  \n",
       "1                     0.351   31  \n",
       "2                     0.672   32  \n",
       "3                     0.167   21  \n",
       "4                     2.288   33  "
      ]
     },
     "execution_count": 10,
     "metadata": {},
     "output_type": "execute_result"
    }
   ],
   "source": [
    "X.head()\n"
   ]
  },
  {
   "cell_type": "code",
   "execution_count": 11,
   "metadata": {},
   "outputs": [],
   "source": [
    "#loading test train data\n",
    "X_train , X_test , Y_train ,Y_test = train_test_split(X,Y,random_state=0,test_size=0.25)"
   ]
  },
  {
   "cell_type": "code",
   "execution_count": 49,
   "metadata": {},
   "outputs": [],
   "source": [
    "#feature selection\n",
    "sc_X = StandardScaler()\n",
    "X_train = sc_X.fit_transform(X_train)\n",
    "X_test = sc_X.transform(X_test)\n"
   ]
  },
  {
   "cell_type": "code",
   "execution_count": 13,
   "metadata": {},
   "outputs": [
    {
     "data": {
      "text/plain": [
       "SVC(C=1.0, cache_size=200, class_weight=None, coef0=0.0,\n",
       "  decision_function_shape='ovr', degree=3, gamma='auto_deprecated',\n",
       "  kernel='rbf', max_iter=-1, probability=False, random_state=0,\n",
       "  shrinking=True, tol=0.001, verbose=False)"
      ]
     },
     "execution_count": 13,
     "metadata": {},
     "output_type": "execute_result"
    }
   ],
   "source": [
    "#implementation - we use rbf here \n",
    "classifier = SVC(random_state=0, kernel='rbf' )\n",
    "classifier.fit(X_train,Y_train)\n"
   ]
  },
  {
   "cell_type": "code",
   "execution_count": 14,
   "metadata": {},
   "outputs": [
    {
     "data": {
      "text/plain": [
       "762    0\n",
       "127    0\n",
       "564    0\n",
       "375    1\n",
       "663    1\n",
       "Name: Outcome, dtype: int64"
      ]
     },
     "execution_count": 14,
     "metadata": {},
     "output_type": "execute_result"
    }
   ],
   "source": [
    "Y_train.head()"
   ]
  },
  {
   "cell_type": "code",
   "execution_count": 15,
   "metadata": {},
   "outputs": [],
   "source": [
    "y_pred = classifier.predict(X_test)"
   ]
  },
  {
   "cell_type": "code",
   "execution_count": 16,
   "metadata": {},
   "outputs": [
    {
     "name": "stdout",
     "output_type": "stream",
     "text": [
      "[[117  13]\n",
      " [ 30  32]]\n"
     ]
    }
   ],
   "source": [
    "cm = confusion_matrix(Y_test, y_pred)\n",
    "print (cm)"
   ]
  },
  {
   "cell_type": "code",
   "execution_count": 17,
   "metadata": {},
   "outputs": [
    {
     "name": "stdout",
     "output_type": "stream",
     "text": [
      "0.7760416666666666\n"
     ]
    }
   ],
   "source": [
    "print(accuracy_score(Y_test,y_pred))"
   ]
  },
  {
   "cell_type": "code",
   "execution_count": 18,
   "metadata": {},
   "outputs": [],
   "source": [
    "#okay we are not going to settle with 77% accuracy \n",
    "#now we save the model and reduce dimensions\n",
    "import pickle as pc\n"
   ]
  },
  {
   "cell_type": "code",
   "execution_count": 19,
   "metadata": {},
   "outputs": [],
   "source": [
    "filename = 'model1.sav'\n",
    "pc.dump(classifier,open(filename,'wb'))"
   ]
  },
  {
   "cell_type": "code",
   "execution_count": 20,
   "metadata": {},
   "outputs": [],
   "source": [
    "from sklearn.decomposition import PCA"
   ]
  },
  {
   "cell_type": "code",
   "execution_count": 21,
   "metadata": {},
   "outputs": [],
   "source": [
    "pca = PCA(n_components=2)\n",
    "pcom = pca.fit_transform(X)\n",
    "\n"
   ]
  },
  {
   "cell_type": "code",
   "execution_count": 22,
   "metadata": {},
   "outputs": [
    {
     "name": "stdout",
     "output_type": "stream",
     "text": [
      "[[-75.71465491 -35.95078264]\n",
      " [-82.3582676   28.90821322]\n",
      " [-74.63064344 -67.90649647]\n",
      " ...\n",
      " [ 32.11319827   3.3766648 ]\n",
      " [-80.21449431 -14.18601977]\n",
      " [-81.30814972  21.62149606]]\n"
     ]
    }
   ],
   "source": [
    "print(pcom)"
   ]
  },
  {
   "cell_type": "code",
   "execution_count": 23,
   "metadata": {},
   "outputs": [],
   "source": [
    "principalDataFrame = pd.DataFrame(data=pcom,columns = ['pcom1','pcom2'])\n"
   ]
  },
  {
   "cell_type": "code",
   "execution_count": 24,
   "metadata": {},
   "outputs": [
    {
     "data": {
      "text/html": [
       "<div>\n",
       "<style scoped>\n",
       "    .dataframe tbody tr th:only-of-type {\n",
       "        vertical-align: middle;\n",
       "    }\n",
       "\n",
       "    .dataframe tbody tr th {\n",
       "        vertical-align: top;\n",
       "    }\n",
       "\n",
       "    .dataframe thead th {\n",
       "        text-align: right;\n",
       "    }\n",
       "</style>\n",
       "<table border=\"1\" class=\"dataframe\">\n",
       "  <thead>\n",
       "    <tr style=\"text-align: right;\">\n",
       "      <th></th>\n",
       "      <th>pcom1</th>\n",
       "      <th>pcom2</th>\n",
       "    </tr>\n",
       "  </thead>\n",
       "  <tbody>\n",
       "    <tr>\n",
       "      <th>0</th>\n",
       "      <td>-75.714655</td>\n",
       "      <td>-35.950783</td>\n",
       "    </tr>\n",
       "    <tr>\n",
       "      <th>1</th>\n",
       "      <td>-82.358268</td>\n",
       "      <td>28.908213</td>\n",
       "    </tr>\n",
       "    <tr>\n",
       "      <th>2</th>\n",
       "      <td>-74.630643</td>\n",
       "      <td>-67.906496</td>\n",
       "    </tr>\n",
       "    <tr>\n",
       "      <th>3</th>\n",
       "      <td>11.077423</td>\n",
       "      <td>34.898486</td>\n",
       "    </tr>\n",
       "    <tr>\n",
       "      <th>4</th>\n",
       "      <td>89.743788</td>\n",
       "      <td>-2.746937</td>\n",
       "    </tr>\n",
       "  </tbody>\n",
       "</table>\n",
       "</div>"
      ],
      "text/plain": [
       "       pcom1      pcom2\n",
       "0 -75.714655 -35.950783\n",
       "1 -82.358268  28.908213\n",
       "2 -74.630643 -67.906496\n",
       "3  11.077423  34.898486\n",
       "4  89.743788  -2.746937"
      ]
     },
     "execution_count": 24,
     "metadata": {},
     "output_type": "execute_result"
    }
   ],
   "source": [
    "principalDataFrame.head()\n"
   ]
  },
  {
   "cell_type": "code",
   "execution_count": 25,
   "metadata": {},
   "outputs": [
    {
     "data": {
      "text/html": [
       "<div>\n",
       "<style scoped>\n",
       "    .dataframe tbody tr th:only-of-type {\n",
       "        vertical-align: middle;\n",
       "    }\n",
       "\n",
       "    .dataframe tbody tr th {\n",
       "        vertical-align: top;\n",
       "    }\n",
       "\n",
       "    .dataframe thead th {\n",
       "        text-align: right;\n",
       "    }\n",
       "</style>\n",
       "<table border=\"1\" class=\"dataframe\">\n",
       "  <thead>\n",
       "    <tr style=\"text-align: right;\">\n",
       "      <th></th>\n",
       "      <th>pcom1</th>\n",
       "      <th>pcom2</th>\n",
       "      <th>Outcome</th>\n",
       "    </tr>\n",
       "  </thead>\n",
       "  <tbody>\n",
       "    <tr>\n",
       "      <th>0</th>\n",
       "      <td>-75.714655</td>\n",
       "      <td>-35.950783</td>\n",
       "      <td>1</td>\n",
       "    </tr>\n",
       "    <tr>\n",
       "      <th>1</th>\n",
       "      <td>-82.358268</td>\n",
       "      <td>28.908213</td>\n",
       "      <td>0</td>\n",
       "    </tr>\n",
       "    <tr>\n",
       "      <th>2</th>\n",
       "      <td>-74.630643</td>\n",
       "      <td>-67.906496</td>\n",
       "      <td>1</td>\n",
       "    </tr>\n",
       "    <tr>\n",
       "      <th>3</th>\n",
       "      <td>11.077423</td>\n",
       "      <td>34.898486</td>\n",
       "      <td>0</td>\n",
       "    </tr>\n",
       "    <tr>\n",
       "      <th>4</th>\n",
       "      <td>89.743788</td>\n",
       "      <td>-2.746937</td>\n",
       "      <td>1</td>\n",
       "    </tr>\n",
       "  </tbody>\n",
       "</table>\n",
       "</div>"
      ],
      "text/plain": [
       "       pcom1      pcom2  Outcome\n",
       "0 -75.714655 -35.950783        1\n",
       "1 -82.358268  28.908213        0\n",
       "2 -74.630643 -67.906496        1\n",
       "3  11.077423  34.898486        0\n",
       "4  89.743788  -2.746937        1"
      ]
     },
     "execution_count": 25,
     "metadata": {},
     "output_type": "execute_result"
    }
   ],
   "source": [
    "finalDf = pd.concat([principalDataFrame,Y],axis = 1)\n",
    "finalDf.head()"
   ]
  },
  {
   "cell_type": "code",
   "execution_count": 26,
   "metadata": {},
   "outputs": [
    {
     "data": {
      "image/png": "[encoded data removed]",
      "text/plain": [
       "<Figure size 576x576 with 1 Axes>"
      ]
     },
     "metadata": {
      "needs_background": "light"
     },
     "output_type": "display_data"
    }
   ],
   "source": [
    "fig = plt.figure(figsize = (8,8))\n",
    "ax = fig.add_subplot(1,1,1) \n",
    "ax.set_xlabel('Principal Component 1', fontsize = 15)\n",
    "ax.set_ylabel('Principal Component 2', fontsize = 15)\n",
    "ax.set_title('2 component PCA', fontsize = 20)\n",
    "targets = [0, 1]\n",
    "colors = ['r', 'g']\n",
    "for target, color in zip(targets,colors):\n",
    "    indicesToKeep = finalDf['Outcome'] == target\n",
    "    ax.scatter(finalDf.loc[indicesToKeep, 'pcom1']\n",
    "               , finalDf.loc[indicesToKeep, 'pcom2']\n",
    "               , c = color\n",
    "               , s = 50)\n",
    "ax.legend(targets)\n",
    "ax.grid()"
   ]
  },
  {
   "cell_type": "code",
   "execution_count": 27,
   "metadata": {},
   "outputs": [],
   "source": [
    "X_train , X_test , Y_train ,Y_test = train_test_split(principalDataFrame,Y,random_state=0,test_size=0.25)"
   ]
  },
  {
   "cell_type": "code",
   "execution_count": 28,
   "metadata": {},
   "outputs": [],
   "source": [
    "sc_X = StandardScaler()\n",
    "X_train = sc_X.fit_transform(X_train)\n",
    "X_test = sc_X.transform(X_test)\n",
    "classifier = SVC(random_state=0, kernel='rbf' )\n",
    "classifier.fit(X_train,Y_train)\n",
    "y_pred = classifier.predict(X_test)"
   ]
  },
  {
   "cell_type": "code",
   "execution_count": 29,
   "metadata": {},
   "outputs": [
    {
     "name": "stdout",
     "output_type": "stream",
     "text": [
      "[[118  12]\n",
      " [ 37  25]]\n"
     ]
    }
   ],
   "source": [
    "cm = confusion_matrix(Y_test, y_pred)\n",
    "print (cm)\n"
   ]
  },
  {
   "cell_type": "code",
   "execution_count": 30,
   "metadata": {},
   "outputs": [
    {
     "name": "stdout",
     "output_type": "stream",
     "text": [
      "0.7447916666666666\n"
     ]
    }
   ],
   "source": [
    "print(accuracy_score(Y_test,y_pred))\n"
   ]
  },
  {
   "cell_type": "code",
   "execution_count": 31,
   "metadata": {},
   "outputs": [],
   "source": [
    "filename = 'model2.sav'\n",
    "pc.dump(classifier,open(filename,'wb'))"
   ]
  },
  {
   "cell_type": "code",
   "execution_count": 32,
   "metadata": {},
   "outputs": [
    {
     "data": {
      "text/html": [
       "<div>\n",
       "<style scoped>\n",
       "    .dataframe tbody tr th:only-of-type {\n",
       "        vertical-align: middle;\n",
       "    }\n",
       "\n",
       "    .dataframe tbody tr th {\n",
       "        vertical-align: top;\n",
       "    }\n",
       "\n",
       "    .dataframe thead th {\n",
       "        text-align: right;\n",
       "    }\n",
       "</style>\n",
       "<table border=\"1\" class=\"dataframe\">\n",
       "  <thead>\n",
       "    <tr style=\"text-align: right;\">\n",
       "      <th></th>\n",
       "      <th>pcom1</th>\n",
       "      <th>pcom2</th>\n",
       "      <th>pcom3</th>\n",
       "      <th>Outcome</th>\n",
       "    </tr>\n",
       "  </thead>\n",
       "  <tbody>\n",
       "    <tr>\n",
       "      <th>0</th>\n",
       "      <td>-75.714655</td>\n",
       "      <td>-35.950783</td>\n",
       "      <td>-7.260789</td>\n",
       "      <td>1</td>\n",
       "    </tr>\n",
       "    <tr>\n",
       "      <th>1</th>\n",
       "      <td>-82.358268</td>\n",
       "      <td>28.908213</td>\n",
       "      <td>-5.496671</td>\n",
       "      <td>0</td>\n",
       "    </tr>\n",
       "    <tr>\n",
       "      <th>2</th>\n",
       "      <td>-74.630643</td>\n",
       "      <td>-67.906496</td>\n",
       "      <td>19.461808</td>\n",
       "      <td>1</td>\n",
       "    </tr>\n",
       "    <tr>\n",
       "      <th>3</th>\n",
       "      <td>11.077423</td>\n",
       "      <td>34.898486</td>\n",
       "      <td>-0.053018</td>\n",
       "      <td>0</td>\n",
       "    </tr>\n",
       "    <tr>\n",
       "      <th>4</th>\n",
       "      <td>89.743788</td>\n",
       "      <td>-2.746937</td>\n",
       "      <td>25.212859</td>\n",
       "      <td>1</td>\n",
       "    </tr>\n",
       "  </tbody>\n",
       "</table>\n",
       "</div>"
      ],
      "text/plain": [
       "       pcom1      pcom2      pcom3  Outcome\n",
       "0 -75.714655 -35.950783  -7.260789        1\n",
       "1 -82.358268  28.908213  -5.496671        0\n",
       "2 -74.630643 -67.906496  19.461808        1\n",
       "3  11.077423  34.898486  -0.053018        0\n",
       "4  89.743788  -2.746937  25.212859        1"
      ]
     },
     "execution_count": 32,
     "metadata": {},
     "output_type": "execute_result"
    }
   ],
   "source": [
    "pca = PCA(n_components=3)\n",
    "pcom = pca.fit_transform(X)\n",
    "\n",
    "principalDataFrame = pd.DataFrame(data=pcom,columns = ['pcom1','pcom2','pcom3'])\n",
    "finalDf = pd.concat([principalDataFrame,Y],axis = 1)\n",
    "finalDf.head()"
   ]
  },
  {
   "cell_type": "code",
   "execution_count": 33,
   "metadata": {},
   "outputs": [],
   "source": [
    "X_train , X_test , Y_train ,Y_test = train_test_split(principalDataFrame,Y,random_state=0,test_size=0.25)\n",
    "sc_X = StandardScaler()\n",
    "X_train = sc_X.fit_transform(X_train)\n",
    "X_test = sc_X.transform(X_test)\n",
    "classifier = SVC(random_state=0, kernel='rbf' )\n",
    "classifier.fit(X_train,Y_train)\n",
    "y_pred = classifier.predict(X_test)"
   ]
  },
  {
   "cell_type": "code",
   "execution_count": 34,
   "metadata": {},
   "outputs": [
    {
     "name": "stdout",
     "output_type": "stream",
     "text": [
      "[[118  12]\n",
      " [ 34  28]]\n"
     ]
    }
   ],
   "source": [
    "cm = confusion_matrix(Y_test, y_pred)\n",
    "print (cm)\n"
   ]
  },
  {
   "cell_type": "code",
   "execution_count": 35,
   "metadata": {},
   "outputs": [
    {
     "name": "stdout",
     "output_type": "stream",
     "text": [
      "0.7604166666666666\n"
     ]
    }
   ],
   "source": [
    "print(accuracy_score(Y_test,y_pred))\n",
    "filename = 'model3.sav'\n",
    "pc.dump(classifier,open(filename,'wb'))\n"
   ]
  },
  {
   "cell_type": "code",
   "execution_count": 36,
   "metadata": {},
   "outputs": [
    {
     "name": "stdout",
     "output_type": "stream",
     "text": [
      "[[115  15]\n",
      " [ 30  32]]\n"
     ]
    }
   ],
   "source": [
    "pca = PCA(n_components=4)\n",
    "pcom = pca.fit_transform(X)\n",
    "\n",
    "principalDataFrame = pd.DataFrame(data=pcom,columns = ['pcom1','pcom2','pcom3','pcom4'])\n",
    "finalDf = pd.concat([principalDataFrame,Y],axis = 1)\n",
    "finalDf.head()\n",
    "X_train , X_test , Y_train ,Y_test = train_test_split(principalDataFrame,Y,random_state=0,test_size=0.25)\n",
    "sc_X = StandardScaler()\n",
    "X_train = sc_X.fit_transform(X_train)\n",
    "X_test = sc_X.transform(X_test)\n",
    "classifier = SVC(random_state=0, kernel='rbf' )\n",
    "classifier.fit(X_train,Y_train)\n",
    "y_pred = classifier.predict(X_test)\n",
    "cm = confusion_matrix(Y_test, y_pred)\n",
    "print (cm)\n"
   ]
  },
  {
   "cell_type": "code",
   "execution_count": 37,
   "metadata": {},
   "outputs": [
    {
     "name": "stdout",
     "output_type": "stream",
     "text": [
      "0.765625\n"
     ]
    }
   ],
   "source": [
    "print(accuracy_score(Y_test,y_pred))\n",
    "filename = 'model3.sav'\n",
    "pc.dump(classifier,open(filename,'wb'))\n"
   ]
  },
  {
   "cell_type": "code",
   "execution_count": 38,
   "metadata": {},
   "outputs": [
    {
     "name": "stdout",
     "output_type": "stream",
     "text": [
      "[[107   0]\n",
      " [ 47   0]]\n",
      "0.6948051948051948\n"
     ]
    }
   ],
   "source": [
    "X_train , X_test , Y_train ,Y_test = train_test_split(X,Y,random_state=0,test_size=0.20)\n",
    "classifier = SVC(random_state=0, kernel='rbf' , gamma = 'auto')\n",
    "classifier.fit(X_train,Y_train)\n",
    "y_pred = classifier.predict(X_test)\n",
    "cm = confusion_matrix(Y_test, y_pred)\n",
    "print (cm)\n",
    "print(accuracy_score(Y_test,y_pred))\n",
    "\n"
   ]
  },
  {
   "cell_type": "code",
   "execution_count": 39,
   "metadata": {},
   "outputs": [],
   "source": [
    "filename = 'model45.sav'\n",
    "pc.dump(classifier,open(filename,'wb'))\n"
   ]
  },
  {
   "cell_type": "code",
   "execution_count": 40,
   "metadata": {},
   "outputs": [
    {
     "name": "stdout",
     "output_type": "stream",
     "text": [
      "[[96 11]\n",
      " [21 26]]\n",
      "0.7922077922077922\n"
     ]
    },
    {
     "name": "stderr",
     "output_type": "stream",
     "text": [
      "C:\\Users\\sivak\\Anaconda3\\lib\\site-packages\\sklearn\\preprocessing\\data.py:625: DataConversionWarning: Data with input dtype int64, float64 were all converted to float64 by StandardScaler.\n",
      "  return self.partial_fit(X, y)\n",
      "C:\\Users\\sivak\\Anaconda3\\lib\\site-packages\\sklearn\\base.py:462: DataConversionWarning: Data with input dtype int64, float64 were all converted to float64 by StandardScaler.\n",
      "  return self.fit(X, **fit_params).transform(X)\n",
      "C:\\Users\\sivak\\Anaconda3\\lib\\site-packages\\ipykernel_launcher.py:4: DataConversionWarning: Data with input dtype int64, float64 were all converted to float64 by StandardScaler.\n",
      "  after removing the cwd from sys.path.\n"
     ]
    }
   ],
   "source": [
    "X_train , X_test , Y_train ,Y_test = train_test_split(X,Y,random_state=0,test_size=0.20)\n",
    "sc_X = StandardScaler()\n",
    "X_train = sc_X.fit_transform(X_train)\n",
    "X_test = sc_X.transform(X_test)\n",
    "classifier = SVC(random_state=0, kernel='rbf' )\n",
    "classifier.fit(X_train,Y_train)\n",
    "y_pred = classifier.predict(X_test)\n",
    "cm = confusion_matrix(Y_test, y_pred)\n",
    "print (cm)\n",
    "print(accuracy_score(Y_test,y_pred))\n",
    "\n"
   ]
  },
  {
   "cell_type": "code",
   "execution_count": 41,
   "metadata": {},
   "outputs": [],
   "source": [
    "filename = 'model6.sav'\n",
    "pc.dump(classifier,open(filename,'wb'))\n"
   ]
  },
  {
   "cell_type": "code",
   "execution_count": 42,
   "metadata": {},
   "outputs": [
    {
     "name": "stdout",
     "output_type": "stream",
     "text": [
      "[[94 13]\n",
      " [22 25]]\n"
     ]
    }
   ],
   "source": [
    "pca = PCA(n_components=4)\n",
    "pcom = pca.fit_transform(X)\n",
    "\n",
    "principalDataFrame = pd.DataFrame(data=pcom,columns = ['pcom1','pcom2','pcom3','pcom4'])\n",
    "finalDf = pd.concat([principalDataFrame,Y],axis = 1)\n",
    "finalDf.head()\n",
    "X_train , X_test , Y_train ,Y_test = train_test_split(principalDataFrame,Y,random_state=0,test_size=0.20)\n",
    "sc_X = StandardScaler()\n",
    "X_train = sc_X.fit_transform(X_train)\n",
    "X_test = sc_X.transform(X_test)\n",
    "classifier = SVC(random_state=0, kernel='rbf' )\n",
    "classifier.fit(X_train,Y_train)\n",
    "y_pred = classifier.predict(X_test)\n",
    "cm = confusion_matrix(Y_test, y_pred)\n",
    "print (cm)"
   ]
  },
  {
   "cell_type": "code",
   "execution_count": 43,
   "metadata": {},
   "outputs": [
    {
     "name": "stdout",
     "output_type": "stream",
     "text": [
      "0.7727272727272727\n"
     ]
    }
   ],
   "source": [
    "print(accuracy_score(Y_test,y_pred))\n"
   ]
  },
  {
   "cell_type": "code",
   "execution_count": 44,
   "metadata": {},
   "outputs": [],
   "source": [
    "filename = 'model7.sav'\n",
    "pc.dump(classifier,open(filename,'wb'))"
   ]
  },
  {
   "cell_type": "code",
   "execution_count": 45,
   "metadata": {},
   "outputs": [
    {
     "name": "stdout",
     "output_type": "stream",
     "text": [
      "[[93 14]\n",
      " [23 24]]\n",
      "0.7597402597402597\n"
     ]
    }
   ],
   "source": [
    "pca = PCA(n_components=5)\n",
    "pcom = pca.fit_transform(X)\n",
    "\n",
    "principalDataFrame = pd.DataFrame(data=pcom,columns = ['pcom1','pcom2','pcom3','pcom4','pcom5'])\n",
    "finalDf = pd.concat([principalDataFrame,Y],axis = 1)\n",
    "finalDf.head()\n",
    "X_train , X_test , Y_train ,Y_test = train_test_split(principalDataFrame,Y,random_state=0,test_size=0.20)\n",
    "sc_X = StandardScaler()\n",
    "X_train = sc_X.fit_transform(X_train)\n",
    "X_test = sc_X.transform(X_test)\n",
    "classifier = SVC(random_state=0, kernel='rbf' )\n",
    "classifier.fit(X_train,Y_train)\n",
    "y_pred = classifier.predict(X_test)\n",
    "cm = confusion_matrix(Y_test, y_pred)\n",
    "print (cm)\n",
    "print(accuracy_score(Y_test,y_pred))"
   ]
  },
  {
   "cell_type": "code",
   "execution_count": 46,
   "metadata": {},
   "outputs": [],
   "source": [
    "filename = 'model8.sav'\n",
    "pc.dump(classifier,open(filename,'wb'))"
   ]
  },
  {
   "cell_type": "code",
   "execution_count": 47,
   "metadata": {},
   "outputs": [
    {
     "name": "stdout",
     "output_type": "stream",
     "text": [
      "[[101   6]\n",
      " [ 32  15]]\n",
      "0.7532467532467533\n"
     ]
    },
    {
     "name": "stderr",
     "output_type": "stream",
     "text": [
      "C:\\Users\\sivak\\Anaconda3\\lib\\site-packages\\sklearn\\preprocessing\\data.py:625: DataConversionWarning: Data with input dtype int64, float64 were all converted to float64 by StandardScaler.\n",
      "  return self.partial_fit(X, y)\n",
      "C:\\Users\\sivak\\Anaconda3\\lib\\site-packages\\sklearn\\base.py:462: DataConversionWarning: Data with input dtype int64, float64 were all converted to float64 by StandardScaler.\n",
      "  return self.fit(X, **fit_params).transform(X)\n",
      "C:\\Users\\sivak\\Anaconda3\\lib\\site-packages\\ipykernel_launcher.py:4: DataConversionWarning: Data with input dtype int64, float64 were all converted to float64 by StandardScaler.\n",
      "  after removing the cwd from sys.path.\n"
     ]
    }
   ],
   "source": [
    "X_train , X_test , Y_train ,Y_test = train_test_split(X,Y,random_state=0,test_size=0.20)\n",
    "sc_X = StandardScaler()\n",
    "X_train = sc_X.fit_transform(X_train)\n",
    "X_test = sc_X.transform(X_test)\n",
    "classifier = SVC(random_state=0, kernel='poly' )\n",
    "classifier.fit(X_train,Y_train)\n",
    "y_pred = classifier.predict(X_test)\n",
    "cm = confusion_matrix(Y_test, y_pred)\n",
    "print (cm)\n",
    "print(accuracy_score(Y_test,y_pred))\n",
    "\n"
   ]
  },
  {
   "cell_type": "code",
   "execution_count": 48,
   "metadata": {},
   "outputs": [
    {
     "name": "stdout",
     "output_type": "stream",
     "text": [
      "[[98  9]\n",
      " [18 29]]\n",
      "0.8246753246753247\n"
     ]
    },
    {
     "name": "stderr",
     "output_type": "stream",
     "text": [
      "C:\\Users\\sivak\\Anaconda3\\lib\\site-packages\\sklearn\\preprocessing\\data.py:625: DataConversionWarning: Data with input dtype int64, float64 were all converted to float64 by StandardScaler.\n",
      "  return self.partial_fit(X, y)\n",
      "C:\\Users\\sivak\\Anaconda3\\lib\\site-packages\\sklearn\\base.py:462: DataConversionWarning: Data with input dtype int64, float64 were all converted to float64 by StandardScaler.\n",
      "  return self.fit(X, **fit_params).transform(X)\n",
      "C:\\Users\\sivak\\Anaconda3\\lib\\site-packages\\ipykernel_launcher.py:4: DataConversionWarning: Data with input dtype int64, float64 were all converted to float64 by StandardScaler.\n",
      "  after removing the cwd from sys.path.\n"
     ]
    }
   ],
   "source": [
    "X_train , X_test , Y_train ,Y_test = train_test_split(X,Y,random_state=0,test_size=0.20)\n",
    "sc_X = StandardScaler()\n",
    "X_train = sc_X.fit_transform(X_train)\n",
    "X_test = sc_X.transform(X_test)\n",
    "classifier = SVC(random_state=0, kernel='linear' )\n",
    "classifier.fit(X_train,Y_train)\n",
    "y_pred = classifier.predict(X_test)\n",
    "cm = confusion_matrix(Y_test, y_pred)\n",
    "print (cm)\n",
    "print(accuracy_score(Y_test,y_pred))"
   ]
  },
  {
   "cell_type": "code",
   "execution_count": 50,
   "metadata": {},
   "outputs": [],
   "source": [
    " filename = 'model9.sav'\n",
    "pc.dump(classifier,open(filename,'wb'))"
   ]
  },
  {
   "cell_type": "code",
   "execution_count": 51,
   "metadata": {},
   "outputs": [
    {
     "name": "stdout",
     "output_type": "stream",
     "text": [
      "[[92 15]\n",
      " [21 26]]\n",
      "0.7662337662337663\n"
     ]
    }
   ],
   "source": [
    "pca = PCA(n_components=5)\n",
    "pcom = pca.fit_transform(X)\n",
    "\n",
    "principalDataFrame = pd.DataFrame(data=pcom,columns = ['pcom1','pcom2','pcom3','pcom4','pcom5'])\n",
    "finalDf = pd.concat([principalDataFrame,Y],axis = 1)\n",
    "finalDf.head()\n",
    "X_train , X_test , Y_train ,Y_test = train_test_split(principalDataFrame,Y,random_state=0,test_size=0.20)\n",
    "sc_X = StandardScaler()\n",
    "X_train = sc_X.fit_transform(X_train)\n",
    "X_test = sc_X.transform(X_test)\n",
    "classifier = SVC(random_state=0, kernel='linear' )\n",
    "classifier.fit(X_train,Y_train)\n",
    "y_pred = classifier.predict(X_test)\n",
    "cm = confusion_matrix(Y_test, y_pred)\n",
    "print (cm)\n",
    "print(accuracy_score(Y_test,y_pred))"
   ]
  },
  {
   "cell_type": "code",
   "execution_count": 52,
   "metadata": {},
   "outputs": [],
   "source": [
    "filename = 'model10.sav'\n",
    "pc.dump(classifier,open(filename,'wb'))"
   ]
  },
  {
   "cell_type": "code",
   "execution_count": 53,
   "metadata": {},
   "outputs": [
    {
     "name": "stdout",
     "output_type": "stream",
     "text": [
      "[[86 21]\n",
      " [15 32]]\n",
      "0.7662337662337663\n"
     ]
    },
    {
     "name": "stderr",
     "output_type": "stream",
     "text": [
      "C:\\Users\\sivak\\Anaconda3\\lib\\site-packages\\sklearn\\preprocessing\\data.py:625: DataConversionWarning: Data with input dtype int64, float64 were all converted to float64 by StandardScaler.\n",
      "  return self.partial_fit(X, y)\n",
      "C:\\Users\\sivak\\Anaconda3\\lib\\site-packages\\sklearn\\base.py:462: DataConversionWarning: Data with input dtype int64, float64 were all converted to float64 by StandardScaler.\n",
      "  return self.fit(X, **fit_params).transform(X)\n",
      "C:\\Users\\sivak\\Anaconda3\\lib\\site-packages\\ipykernel_launcher.py:4: DataConversionWarning: Data with input dtype int64, float64 were all converted to float64 by StandardScaler.\n",
      "  after removing the cwd from sys.path.\n"
     ]
    }
   ],
   "source": [
    "X_train , X_test , Y_train ,Y_test = train_test_split(X,Y,random_state=0,test_size=0.20)\n",
    "sc_X = StandardScaler()\n",
    "X_train = sc_X.fit_transform(X_train)\n",
    "X_test = sc_X.transform(X_test)\n",
    "classifier = SVC(random_state=0, kernel='sigmoid' )\n",
    "classifier.fit(X_train,Y_train)\n",
    "y_pred = classifier.predict(X_test)\n",
    "cm = confusion_matrix(Y_test, y_pred)\n",
    "print (cm)\n",
    "print(accuracy_score(Y_test,y_pred))"
   ]
  },
  {
   "cell_type": "code",
   "execution_count": 73,
   "metadata": {},
   "outputs": [],
   "source": [
    "filename = 'model12.sav'\n",
    "pc.dump(classifier,open(filename,'wb'))"
   ]
  },
  {
   "cell_type": "code",
   "execution_count": 55,
   "metadata": {},
   "outputs": [
    {
     "name": "stdout",
     "output_type": "stream",
     "text": [
      "[[95 12]\n",
      " [23 24]]\n",
      "0.7727272727272727\n"
     ]
    }
   ],
   "source": [
    "pca = PCA(n_components=4)\n",
    "pcom = pca.fit_transform(X)\n",
    "\n",
    "principalDataFrame = pd.DataFrame(data=pcom,columns = ['pcom1','pcom2','pcom3','pcom4'])\n",
    "finalDf = pd.concat([principalDataFrame,Y],axis = 1)\n",
    "finalDf.head()\n",
    "X_train , X_test , Y_train ,Y_test = train_test_split(principalDataFrame,Y,random_state=0,test_size=0.20)\n",
    "sc_X = StandardScaler()\n",
    "X_train = sc_X.fit_transform(X_train)\n",
    "X_test = sc_X.transform(X_test)\n",
    "classifier = SVC(random_state=0, kernel='linear' )\n",
    "classifier.fit(X_train,Y_train)\n",
    "y_pred = classifier.predict(X_test)\n",
    "cm = confusion_matrix(Y_test, y_pred)\n",
    "print (cm)\n",
    "print(accuracy_score(Y_test,y_pred))"
   ]
  },
  {
   "cell_type": "code",
   "execution_count": 59,
   "metadata": {},
   "outputs": [],
   "source": [
    "from sklearn.discriminant_analysis import LinearDiscriminantAnalysis as LDA\n"
   ]
  },
  {
   "cell_type": "code",
   "execution_count": 61,
   "metadata": {},
   "outputs": [],
   "source": [
    "lda = LDA(n_components=4)\n",
    "ldata = lda.fit_transform(X,Y)"
   ]
  },
  {
   "cell_type": "code",
   "execution_count": 63,
   "metadata": {},
   "outputs": [
    {
     "name": "stdout",
     "output_type": "stream",
     "text": [
      "[[ 1.38024702e+00]\n",
      " [-1.56452399e+00]\n",
      " [ 1.76618515e+00]\n",
      " [-1.69058752e+00]\n",
      " [ 2.20726804e+00]\n",
      " [-6.30945011e-01]\n",
      " [-1.32918043e+00]\n",
      " [ 1.12663761e+00]\n",
      " [ 1.44250389e+00]\n",
      " [-1.57821647e+00]\n",
      " [-3.60325075e-01]\n",
      " [ 2.26355831e+00]\n",
      " [ 1.64069266e+00]\n",
      " [ 1.18282272e+00]\n",
      " [ 1.13107071e+00]\n",
      " [ 3.91039109e-01]\n",
      " [ 1.57575445e-01]\n",
      " [-3.97093569e-01]\n",
      " [ 1.61251574e-01]\n",
      " [-2.61372162e-01]\n",
      " [ 2.66682978e-01]\n",
      " [ 4.16996885e-02]\n",
      " [ 2.70210532e+00]\n",
      " [ 2.12661643e-02]\n",
      " [ 1.30195146e+00]\n",
      " [ 5.13605683e-01]\n",
      " [ 1.39813224e+00]\n",
      " [-1.58728261e+00]\n",
      " [ 8.87292345e-01]\n",
      " [-9.52716561e-02]\n",
      " [ 4.05704236e-01]\n",
      " [ 8.91805731e-01]\n",
      " [-1.54050347e+00]\n",
      " [-1.75281602e+00]\n",
      " [ 4.88314327e-01]\n",
      " [-6.08892962e-01]\n",
      " [ 1.17022015e+00]\n",
      " [ 3.14805714e-01]\n",
      " [-5.93317579e-01]\n",
      " [ 8.27209068e-01]\n",
      " [ 1.48104538e+00]\n",
      " [ 1.20652541e+00]\n",
      " [-8.28902575e-01]\n",
      " [ 2.49660978e+00]\n",
      " [ 1.11406406e+00]\n",
      " [ 2.80528167e+00]\n",
      " [ 4.73716130e-01]\n",
      " [-1.75769819e+00]\n",
      " [ 2.36455873e-01]\n",
      " [-1.50086415e+00]\n",
      " [-1.75598565e+00]\n",
      " [-1.08934077e+00]\n",
      " [-1.28347567e+00]\n",
      " [ 1.87892567e+00]\n",
      " [ 1.34723775e+00]\n",
      " [-2.13762475e+00]\n",
      " [ 2.21137940e+00]\n",
      " [ 7.34251604e-02]\n",
      " [ 1.75151424e+00]\n",
      " [-5.33296561e-01]\n",
      " [-2.57341510e+00]\n",
      " [ 7.25226999e-01]\n",
      " [-2.15187268e+00]\n",
      " [ 1.01270379e-01]\n",
      " [ 2.04155259e-01]\n",
      " [-8.40196453e-01]\n",
      " [-4.65769385e-01]\n",
      " [ 4.58560268e-01]\n",
      " [-1.84289688e+00]\n",
      " [ 5.99033964e-02]\n",
      " [-4.55468347e-01]\n",
      " [ 2.79733137e-01]\n",
      " [ 1.69411752e+00]\n",
      " [-1.99635143e-01]\n",
      " [-1.57274313e+00]\n",
      " [-4.03723214e+00]\n",
      " [-1.26144771e+00]\n",
      " [-3.45099304e-01]\n",
      " [ 1.15213494e+00]\n",
      " [-9.56725697e-01]\n",
      " [-9.01311036e-01]\n",
      " [-2.96690218e+00]\n",
      " [-7.41463370e-01]\n",
      " [-1.52147463e+00]\n",
      " [ 1.07605134e+00]\n",
      " [-4.48662216e-01]\n",
      " [ 7.37267698e-01]\n",
      " [-5.07830140e-01]\n",
      " [ 1.63933495e+00]\n",
      " [-1.21364135e+00]\n",
      " [-2.23764300e+00]\n",
      " [-1.37366766e-01]\n",
      " [ 1.58854934e-02]\n",
      " [ 8.30180466e-02]\n",
      " [-1.21945751e-01]\n",
      " [ 7.27990640e-01]\n",
      " [-1.17005958e+00]\n",
      " [-2.32192361e+00]\n",
      " [-7.26666390e-01]\n",
      " [ 3.90418522e-01]\n",
      " [ 1.81327091e+00]\n",
      " [ 6.76056010e-03]\n",
      " [-1.34498280e+00]\n",
      " [-1.90619268e+00]\n",
      " [-3.54843657e-01]\n",
      " [-1.67570096e-01]\n",
      " [-2.28134324e+00]\n",
      " [ 4.82197324e-01]\n",
      " [-9.76049143e-01]\n",
      " [-1.12437078e+00]\n",
      " [ 9.90797179e-01]\n",
      " [ 1.36945878e+00]\n",
      " [-1.51440204e+00]\n",
      " [-1.10182709e+00]\n",
      " [ 1.49838791e+00]\n",
      " [ 8.28796769e-01]\n",
      " [ 2.00400109e-01]\n",
      " [-6.46777211e-01]\n",
      " [-8.48749495e-01]\n",
      " [-1.47390475e+00]\n",
      " [ 2.05797460e+00]\n",
      " [-5.11622868e-02]\n",
      " [-6.81014389e-01]\n",
      " [ 2.65451621e-01]\n",
      " [-7.69596344e-01]\n",
      " [ 5.78865093e-01]\n",
      " [ 4.54688854e-01]\n",
      " [-4.12880159e-01]\n",
      " [-4.38287604e-01]\n",
      " [-6.19763782e-01]\n",
      " [ 1.11828885e+00]\n",
      " [ 1.21121685e+00]\n",
      " [ 1.22710928e+00]\n",
      " [-1.45023801e-01]\n",
      " [-1.43978283e+00]\n",
      " [-1.90826412e-01]\n",
      " [-1.04020232e+00]\n",
      " [-1.31653345e+00]\n",
      " [-1.50175717e-01]\n",
      " [-5.23465385e-01]\n",
      " [-4.65325607e-01]\n",
      " [ 2.70731794e-02]\n",
      " [-5.28625745e-01]\n",
      " [ 3.09076678e-01]\n",
      " [ 5.91531325e-01]\n",
      " [-2.87652426e+00]\n",
      " [-1.38976548e+00]\n",
      " [-1.06131432e-03]\n",
      " [ 1.08174061e+00]\n",
      " [-1.63050713e+00]\n",
      " [ 1.74228354e-01]\n",
      " [-6.67807114e-01]\n",
      " [ 1.92028702e+00]\n",
      " [ 6.85610463e-01]\n",
      " [ 3.00978625e+00]\n",
      " [ 2.04647525e+00]\n",
      " [-1.07953786e+00]\n",
      " [-7.83903741e-01]\n",
      " [-1.56992878e+00]\n",
      " [ 3.26033060e+00]\n",
      " [ 4.58037844e-01]\n",
      " [ 2.28412818e-03]\n",
      " [-3.64380964e-01]\n",
      " [-9.69765827e-01]\n",
      " [-9.43967449e-02]\n",
      " [-2.35914298e-01]\n",
      " [ 5.05409475e-01]\n",
      " [ 7.71351659e-02]\n",
      " [-2.52097637e-01]\n",
      " [-8.25004972e-01]\n",
      " [-6.28399848e-01]\n",
      " [ 7.08951516e-01]\n",
      " [-3.68990627e-01]\n",
      " [-5.48879466e-01]\n",
      " [-1.54425006e+00]\n",
      " [ 2.14262672e+00]\n",
      " [-8.13235009e-01]\n",
      " [ 1.33008246e+00]\n",
      " [ 1.42210272e+00]\n",
      " [ 1.06718970e+00]\n",
      " [-1.58297682e+00]\n",
      " [-1.46559653e-01]\n",
      " [-4.05664908e+00]\n",
      " [-1.56098249e+00]\n",
      " [ 2.18940762e-01]\n",
      " [ 2.86357578e+00]\n",
      " [ 1.99453738e+00]\n",
      " [ 2.17385262e-01]\n",
      " [-1.80425058e-01]\n",
      " [ 2.28808201e-01]\n",
      " [-1.15430206e+00]\n",
      " [ 6.17944878e-01]\n",
      " [ 1.28585205e+00]\n",
      " [ 3.21595329e+00]\n",
      " [-9.42565095e-01]\n",
      " [ 1.20361403e+00]\n",
      " [-1.32859909e+00]\n",
      " [-8.90845030e-01]\n",
      " [ 1.22202205e-01]\n",
      " [ 3.18675936e-01]\n",
      " [-5.63587591e-01]\n",
      " [ 3.77224387e-01]\n",
      " [-7.18469253e-01]\n",
      " [-1.68067944e+00]\n",
      " [ 1.11295822e-01]\n",
      " [-7.25115630e-01]\n",
      " [ 2.89047770e+00]\n",
      " [ 1.25134720e+00]\n",
      " [-1.08207782e+00]\n",
      " [ 2.14126645e+00]\n",
      " [-1.56598719e+00]\n",
      " [ 7.40877571e-01]\n",
      " [ 1.90836408e+00]\n",
      " [ 6.63368860e-01]\n",
      " [ 6.05324139e-02]\n",
      " [ 2.25498474e+00]\n",
      " [-3.47530965e-03]\n",
      " [ 1.57991175e-01]\n",
      " [-5.36281214e-01]\n",
      " [ 2.54370291e-01]\n",
      " [ 1.34214373e+00]\n",
      " [ 1.24858399e+00]\n",
      " [ 4.89181522e-01]\n",
      " [ 1.16391220e+00]\n",
      " [-1.24511688e+00]\n",
      " [-1.45821451e+00]\n",
      " [-9.66388951e-01]\n",
      " [ 1.61460063e+00]\n",
      " [ 3.02908235e+00]\n",
      " [-1.22442167e-01]\n",
      " [ 1.16249404e+00]\n",
      " [ 1.06611791e+00]\n",
      " [-1.93279822e+00]\n",
      " [ 1.85948755e-01]\n",
      " [-1.68001302e+00]\n",
      " [ 2.00614683e+00]\n",
      " [ 2.19252775e+00]\n",
      " [ 1.80753687e+00]\n",
      " [ 1.70900138e+00]\n",
      " [-1.66016311e+00]\n",
      " [-1.45411028e+00]\n",
      " [-8.85212758e-01]\n",
      " [ 5.39100834e-02]\n",
      " [ 5.45722358e-01]\n",
      " [ 5.75421990e-01]\n",
      " [ 2.64509121e+00]\n",
      " [ 5.71837362e-01]\n",
      " [ 1.19556928e+00]\n",
      " [ 3.89132088e-01]\n",
      " [-1.10640670e+00]\n",
      " [ 3.10091784e-01]\n",
      " [-5.03261029e-01]\n",
      " [-1.82528177e+00]\n",
      " [-1.24267599e+00]\n",
      " [ 7.32092743e-02]\n",
      " [-3.51459568e-01]\n",
      " [-2.24209895e-01]\n",
      " [-8.32990550e-01]\n",
      " [ 1.28044457e+00]\n",
      " [ 2.34867736e+00]\n",
      " [ 1.60619574e+00]\n",
      " [ 1.24818781e+00]\n",
      " [-6.29910391e-01]\n",
      " [ 6.33927438e-01]\n",
      " [ 5.45418814e-02]\n",
      " [-4.05935522e-02]\n",
      " [ 1.35750948e+00]\n",
      " [ 9.48849202e-01]\n",
      " [-1.46450499e+00]\n",
      " [ 8.00609270e-01]\n",
      " [ 1.26261064e+00]\n",
      " [-1.20510350e+00]\n",
      " [-7.01172755e-01]\n",
      " [-1.76552192e+00]\n",
      " [ 7.08240944e-01]\n",
      " [-1.52842667e-01]\n",
      " [-4.41221534e-01]\n",
      " [-1.17809408e+00]\n",
      " [-4.01161323e-02]\n",
      " [-8.79926155e-01]\n",
      " [ 5.59762504e-01]\n",
      " [ 8.69638111e-01]\n",
      " [ 2.84851504e-01]\n",
      " [ 1.11236577e+00]\n",
      " [-8.05878675e-01]\n",
      " [ 5.78139779e-01]\n",
      " [ 1.01691087e+00]\n",
      " [ 3.96275138e-01]\n",
      " [-1.34583971e+00]\n",
      " [-1.45664022e-01]\n",
      " [-1.55602827e+00]\n",
      " [-2.77867818e-01]\n",
      " [ 1.01215972e+00]\n",
      " [ 5.70183421e-01]\n",
      " [ 5.99646429e-01]\n",
      " [ 1.36137940e+00]\n",
      " [-1.05701811e-01]\n",
      " [-6.42907454e-01]\n",
      " [ 6.02590539e-01]\n",
      " [ 2.06659823e-01]\n",
      " [ 1.89529004e+00]\n",
      " [ 3.76099918e-01]\n",
      " [-1.12881300e+00]\n",
      " [ 7.16540859e-01]\n",
      " [-1.12427917e-01]\n",
      " [-3.75297188e-02]\n",
      " [ 1.30510102e+00]\n",
      " [-7.76471883e-01]\n",
      " [ 1.87342795e-01]\n",
      " [ 1.11210570e-01]\n",
      " [-1.15959323e+00]\n",
      " [-4.14681422e-01]\n",
      " [ 2.53134022e-01]\n",
      " [-2.46493998e-01]\n",
      " [ 7.24574314e-01]\n",
      " [-4.76703608e-01]\n",
      " [-1.71076339e+00]\n",
      " [ 1.34293733e+00]\n",
      " [-1.51863839e-01]\n",
      " [ 1.69675986e+00]\n",
      " [-6.13714059e-02]\n",
      " [-6.05696481e-01]\n",
      " [-6.11836904e-01]\n",
      " [ 1.50427528e+00]\n",
      " [-5.41945948e-01]\n",
      " [-1.26206360e-01]\n",
      " [ 5.90262353e-02]\n",
      " [ 2.23752129e+00]\n",
      " [-4.23234954e-01]\n",
      " [-4.80285904e-01]\n",
      " [ 6.35238870e-01]\n",
      " [-1.21120049e+00]\n",
      " [ 2.76165716e+00]\n",
      " [-3.03944984e-01]\n",
      " [-1.61797799e+00]\n",
      " [ 1.35863420e+00]\n",
      " [ 8.66232075e-01]\n",
      " [-7.85262378e-02]\n",
      " [ 1.57619625e+00]\n",
      " [ 2.20562616e+00]\n",
      " [-5.58924450e-01]\n",
      " [-1.21180711e+00]\n",
      " [-3.63143552e+00]\n",
      " [ 4.83690198e-02]\n",
      " [ 2.94570608e-01]\n",
      " [ 8.13317341e-01]\n",
      " [ 2.52574869e-01]\n",
      " [-2.51914756e-01]\n",
      " [-1.42225543e+00]\n",
      " [-2.69193732e+00]\n",
      " [-4.21899858e-01]\n",
      " [ 1.07912510e-01]\n",
      " [-1.61760389e+00]\n",
      " [-1.32816227e+00]\n",
      " [-3.97774345e-01]\n",
      " [ 1.50262601e+00]\n",
      " [ 3.34025760e-01]\n",
      " [ 2.55605867e+00]\n",
      " [ 1.73688028e-01]\n",
      " [ 2.05013846e+00]\n",
      " [ 1.78364795e+00]\n",
      " [ 1.19690098e+00]\n",
      " [-8.05349918e-03]\n",
      " [ 1.47725341e+00]\n",
      " [ 5.73193192e-01]\n",
      " [-2.18593644e-01]\n",
      " [-7.90579186e-02]\n",
      " [-1.73780760e+00]\n",
      " [-1.84420988e+00]\n",
      " [-3.04693994e-01]\n",
      " [ 2.29800354e+00]\n",
      " [-1.62319521e+00]\n",
      " [-1.15724071e+00]\n",
      " [-5.70692476e-01]\n",
      " [ 4.12276601e-01]\n",
      " [ 1.72664973e+00]\n",
      " [-1.78358243e+00]\n",
      " [-8.64435506e-01]\n",
      " [ 1.76315030e+00]\n",
      " [-3.44416377e-01]\n",
      " [-6.16023924e-01]\n",
      " [-1.72801758e+00]\n",
      " [-8.09568351e-01]\n",
      " [-9.90179027e-01]\n",
      " [-9.19427191e-01]\n",
      " [-1.01307498e+00]\n",
      " [ 1.61765496e-01]\n",
      " [ 3.76081583e-01]\n",
      " [ 7.12818607e-01]\n",
      " [-3.96790723e-01]\n",
      " [-8.01166739e-01]\n",
      " [ 1.96799776e+00]\n",
      " [-9.23034705e-01]\n",
      " [-7.18503131e-01]\n",
      " [ 1.22278529e+00]\n",
      " [ 3.50955585e-01]\n",
      " [-6.85885429e-01]\n",
      " [-1.55987528e-01]\n",
      " [-1.89892590e+00]\n",
      " [ 1.85217230e+00]\n",
      " [-8.13755968e-01]\n",
      " [ 3.48465616e-01]\n",
      " [ 4.43221776e-01]\n",
      " [-9.56963165e-01]\n",
      " [ 1.40648566e+00]\n",
      " [ 6.01897334e-01]\n",
      " [-2.22677788e-01]\n",
      " [-1.57001644e+00]\n",
      " [ 2.62663403e+00]\n",
      " [ 1.45321678e+00]\n",
      " [-1.54195205e-01]\n",
      " [-5.25813173e-01]\n",
      " [ 8.82913550e-01]\n",
      " [-3.46878217e-01]\n",
      " [ 1.88753568e-01]\n",
      " [ 7.98832300e-01]\n",
      " [-8.39564109e-01]\n",
      " [ 1.06764878e+00]\n",
      " [-2.03186319e+00]\n",
      " [-3.99288291e-01]\n",
      " [ 1.61596538e-01]\n",
      " [-1.33410338e+00]\n",
      " [-4.07566655e-01]\n",
      " [-4.63696628e-01]\n",
      " [ 1.72988697e+00]\n",
      " [ 1.60971553e+00]\n",
      " [-2.47569818e+00]\n",
      " [ 1.42098526e+00]\n",
      " [ 2.64261577e-02]\n",
      " [-1.04437261e+00]\n",
      " [-9.36048822e-01]\n",
      " [-9.85710859e-01]\n",
      " [-1.63070529e+00]\n",
      " [-3.37248043e-01]\n",
      " [-1.00447790e+00]\n",
      " [ 1.36592469e+00]\n",
      " [ 1.45276227e+00]\n",
      " [ 5.87074567e-01]\n",
      " [-2.05658174e+00]\n",
      " [ 1.12351342e-01]\n",
      " [ 1.38217666e+00]\n",
      " [-1.24148591e+00]\n",
      " [-2.64680307e-01]\n",
      " [ 3.14982896e-01]\n",
      " [-1.94163611e-01]\n",
      " [ 4.08725080e+00]\n",
      " [-1.20136899e+00]\n",
      " [-1.07795036e+00]\n",
      " [-7.49658286e-01]\n",
      " [-7.27090670e-01]\n",
      " [-2.09231022e+00]\n",
      " [-3.98237879e-02]\n",
      " [-9.37066907e-01]\n",
      " [ 5.18134780e-01]\n",
      " [-3.34262124e-01]\n",
      " [ 2.54064435e+00]\n",
      " [ 4.93885955e-01]\n",
      " [-1.10005935e+00]\n",
      " [ 1.94671246e+00]\n",
      " [ 1.00547510e+00]\n",
      " [ 1.25485363e-01]\n",
      " [-2.22613896e+00]\n",
      " [-4.21019169e-01]\n",
      " [-1.16531037e+00]\n",
      " [ 5.85019320e-02]\n",
      " [-9.38784854e-01]\n",
      " [-1.93956622e+00]\n",
      " [-6.79456990e-01]\n",
      " [ 8.94307833e-01]\n",
      " [ 1.80961878e+00]\n",
      " [ 8.88757905e-01]\n",
      " [-1.21852853e-01]\n",
      " [-1.75031777e-01]\n",
      " [ 4.31053388e-01]\n",
      " [-5.95296836e-01]\n",
      " [-1.51539914e-01]\n",
      " [-5.79309725e-01]\n",
      " [-5.15859281e-01]\n",
      " [-1.49666165e-02]\n",
      " [ 2.86774261e-01]\n",
      " [ 8.61866340e-01]\n",
      " [-4.69190084e-01]\n",
      " [-1.23675618e+00]\n",
      " [-1.43139618e+00]\n",
      " [ 1.89167412e+00]\n",
      " [ 3.46659842e-01]\n",
      " [ 4.04594633e-01]\n",
      " [ 2.43917815e+00]\n",
      " [-1.11182521e+00]\n",
      " [ 2.39900999e+00]\n",
      " [-8.50308506e-01]\n",
      " [-1.10871941e+00]\n",
      " [-6.60107042e-01]\n",
      " [ 4.84220777e-01]\n",
      " [-2.66279732e+00]\n",
      " [ 1.37190238e+00]\n",
      " [-6.43863876e-01]\n",
      " [-1.44363850e+00]\n",
      " [ 1.87817898e+00]\n",
      " [ 1.11122021e+00]\n",
      " [-1.15718672e+00]\n",
      " [-9.17745824e-01]\n",
      " [-2.28141692e+00]\n",
      " [-2.13269241e-02]\n",
      " [-5.22792867e-01]\n",
      " [-7.51046751e-01]\n",
      " [ 1.19466225e+00]\n",
      " [-2.00373631e-01]\n",
      " [-8.70328435e-01]\n",
      " [ 2.25720701e-01]\n",
      " [-2.91234130e-01]\n",
      " [-8.27677263e-01]\n",
      " [-6.16987140e-01]\n",
      " [-1.23515277e+00]\n",
      " [-1.22548080e+00]\n",
      " [ 8.01764302e-01]\n",
      " [ 1.20759286e+00]\n",
      " [ 7.16609019e-01]\n",
      " [-2.58665700e-01]\n",
      " [-3.67713343e-01]\n",
      " [-2.30250176e+00]\n",
      " [-2.69478623e-01]\n",
      " [-1.40580624e+00]\n",
      " [ 1.16594630e+00]\n",
      " [-1.48756089e-01]\n",
      " [-1.61364583e+00]\n",
      " [-1.95545316e+00]\n",
      " [-9.87038715e-01]\n",
      " [-7.06810005e-01]\n",
      " [-8.79893865e-01]\n",
      " [-1.72082730e-01]\n",
      " [ 7.87069973e-02]\n",
      " [-3.31412366e-01]\n",
      " [ 4.16845626e-02]\n",
      " [-7.94627274e-01]\n",
      " [ 9.18393084e-01]\n",
      " [-1.13720271e+00]\n",
      " [-1.97858000e+00]\n",
      " [-4.69229560e-02]\n",
      " [ 4.38449496e-01]\n",
      " [ 3.67285609e-01]\n",
      " [-4.09468239e-03]\n",
      " [ 3.33262604e-01]\n",
      " [-1.03711442e+00]\n",
      " [-1.36216324e+00]\n",
      " [ 1.97904792e+00]\n",
      " [ 3.03306020e+00]\n",
      " [ 2.33089122e-02]\n",
      " [ 9.46668508e-01]\n",
      " [ 1.46457033e+00]\n",
      " [-9.41023003e-01]\n",
      " [-1.10222368e+00]\n",
      " [-1.46010828e-01]\n",
      " [-1.32949724e+00]\n",
      " [-1.00261048e+00]\n",
      " [-2.87734866e-01]\n",
      " [-6.82412423e-01]\n",
      " [-4.09800729e-02]\n",
      " [ 1.01004452e+00]\n",
      " [-5.06483563e-01]\n",
      " [ 4.12658834e-01]\n",
      " [ 2.12063895e+00]\n",
      " [-9.77667678e-01]\n",
      " [-5.77052924e-01]\n",
      " [-1.19556849e+00]\n",
      " [-1.02750659e+00]\n",
      " [-6.18707953e-01]\n",
      " [-6.38649839e-01]\n",
      " [ 7.58369811e-01]\n",
      " [-4.32539885e-01]\n",
      " [-1.23123080e+00]\n",
      " [-1.01225945e+00]\n",
      " [-5.04363445e-01]\n",
      " [-8.84494271e-01]\n",
      " [-3.96975754e-03]\n",
      " [-3.43591638e-02]\n",
      " [-1.53086167e-01]\n",
      " [ 3.44729265e-01]\n",
      " [ 5.46661964e-01]\n",
      " [ 2.56835631e+00]\n",
      " [ 7.09250228e-01]\n",
      " [-6.26870404e-01]\n",
      " [ 6.06120646e-01]\n",
      " [ 1.24462128e-01]\n",
      " [ 1.44632346e-01]\n",
      " [-1.56578110e+00]\n",
      " [ 1.10887307e+00]\n",
      " [-8.61083685e-01]\n",
      " [ 1.93093415e+00]\n",
      " [-1.71088118e+00]\n",
      " [ 1.66418465e+00]\n",
      " [-3.99027913e-01]\n",
      " [ 3.82779123e-01]\n",
      " [-5.54653667e-01]\n",
      " [ 4.03314570e-01]\n",
      " [ 1.22893751e+00]\n",
      " [-1.06807381e+00]\n",
      " [-9.45207852e-01]\n",
      " [ 1.22772059e+00]\n",
      " [-9.59184566e-01]\n",
      " [-1.20530008e+00]\n",
      " [-4.36217375e-01]\n",
      " [-7.00124899e-01]\n",
      " [ 1.54440552e+00]\n",
      " [ 2.11796558e+00]\n",
      " [ 9.91458875e-02]\n",
      " [ 1.97680479e+00]\n",
      " [-1.78206156e+00]\n",
      " [ 5.60190516e-01]\n",
      " [-1.37691455e+00]\n",
      " [-6.81837552e-01]\n",
      " [ 1.54794181e+00]\n",
      " [ 1.85013397e+00]\n",
      " [-5.48579168e-02]\n",
      " [ 1.53754777e+00]\n",
      " [-1.08702371e+00]\n",
      " [-5.86324512e-01]\n",
      " [-2.46161136e+00]\n",
      " [ 6.89893356e-01]\n",
      " [ 6.58237479e-02]\n",
      " [-4.71078509e-01]\n",
      " [-6.71083141e-01]\n",
      " [ 3.00093113e+00]\n",
      " [-6.55992823e-01]\n",
      " [-8.44609623e-01]\n",
      " [-7.60013564e-01]\n",
      " [-9.52129842e-01]\n",
      " [-2.79163355e-01]\n",
      " [ 3.13427361e-01]\n",
      " [-1.40479442e+00]\n",
      " [ 1.21948152e-01]\n",
      " [-1.07604753e+00]\n",
      " [-8.50774700e-01]\n",
      " [-9.44829825e-01]\n",
      " [-6.74504603e-01]\n",
      " [ 4.28238089e-01]\n",
      " [-5.78728295e-01]\n",
      " [-9.89876547e-01]\n",
      " [ 3.67669648e-01]\n",
      " [-1.89464088e+00]\n",
      " [-1.16098807e+00]\n",
      " [ 1.63528697e-01]\n",
      " [ 6.94708422e-01]\n",
      " [-2.08540282e-01]\n",
      " [-8.12258948e-01]\n",
      " [ 6.44608712e-01]\n",
      " [ 3.31511782e-01]\n",
      " [ 1.56088847e+00]\n",
      " [ 6.29328916e-01]\n",
      " [-1.25770692e+00]\n",
      " [-1.61879924e+00]\n",
      " [-2.64589409e-01]\n",
      " [ 5.76546365e-02]\n",
      " [-3.84933712e-01]\n",
      " [-9.41126942e-01]\n",
      " [ 7.05692420e-01]\n",
      " [-1.55254547e+00]\n",
      " [ 4.86331933e-01]\n",
      " [ 9.41456175e-01]\n",
      " [-6.95423777e-01]\n",
      " [ 1.37425603e+00]\n",
      " [ 2.99199087e+00]\n",
      " [ 1.38473220e+00]\n",
      " [ 1.54342381e+00]\n",
      " [ 2.50233704e-01]\n",
      " [-7.60603399e-01]\n",
      " [ 9.02775517e-01]\n",
      " [-4.10975290e-02]\n",
      " [-1.69736811e-01]\n",
      " [ 1.14067733e+00]\n",
      " [ 1.72767680e+00]\n",
      " [-1.17276728e+00]\n",
      " [-9.64058648e-01]\n",
      " [ 1.19487145e+00]\n",
      " [ 2.07784454e-01]\n",
      " [ 2.05450564e+00]\n",
      " [ 9.42407904e-01]\n",
      " [-1.00468179e+00]\n",
      " [ 6.85452111e-02]\n",
      " [-1.24434018e+00]\n",
      " [-2.44988877e+00]\n",
      " [ 1.65569205e+00]\n",
      " [-4.57440460e-01]\n",
      " [ 4.77609108e-02]\n",
      " [-9.61080388e-01]\n",
      " [-5.12841807e-02]\n",
      " [-5.05247878e-01]\n",
      " [-8.43162043e-01]\n",
      " [-2.41928987e-01]\n",
      " [ 1.06716394e+00]\n",
      " [-2.28976532e-01]\n",
      " [ 2.04127084e+00]\n",
      " [ 4.00366709e-01]\n",
      " [ 9.96876264e-01]\n",
      " [-1.65860453e+00]\n",
      " [ 1.06376663e-01]\n",
      " [ 8.38628507e-01]\n",
      " [-8.69371994e-01]\n",
      " [ 8.32671418e-02]\n",
      " [ 9.36701629e-01]\n",
      " [-1.54164179e-01]\n",
      " [ 2.77185452e-01]\n",
      " [ 1.57135518e+00]\n",
      " [ 1.20420539e+00]\n",
      " [-8.98708040e-01]\n",
      " [-7.29758619e-01]\n",
      " [-9.07245296e-01]\n",
      " [-1.60067442e-01]\n",
      " [ 1.57566837e+00]\n",
      " [-5.53656603e-01]\n",
      " [ 4.41197681e-01]\n",
      " [ 1.18019649e-01]\n",
      " [ 1.54055023e+00]\n",
      " [-6.27726826e-01]\n",
      " [-9.90831759e-01]\n",
      " [ 2.39691298e+00]\n",
      " [ 1.57535981e+00]\n",
      " [-2.97204056e-01]\n",
      " [-5.17964180e-01]\n",
      " [-1.60551299e-01]\n",
      " [-1.38050887e+00]\n",
      " [-4.08420188e-01]\n",
      " [ 3.29928896e-01]\n",
      " [ 1.95155825e-01]\n",
      " [-6.97064456e-01]\n",
      " [ 1.05093895e-01]\n",
      " [-4.04487694e-01]\n",
      " [-4.29543716e-02]\n",
      " [ 3.56148479e-01]\n",
      " [-1.19055817e+00]\n",
      " [-2.33479345e-01]\n",
      " [-2.56590148e-01]\n",
      " [ 1.79913457e+00]\n",
      " [-8.47161828e-01]\n",
      " [-8.43094774e-01]\n",
      " [-4.96736198e-01]\n",
      " [-8.25821318e-01]\n",
      " [-8.90650816e-01]\n",
      " [-6.16527112e-01]\n",
      " [-3.39928400e-01]\n",
      " [ 1.49424701e+00]\n",
      " [-5.41180344e-01]\n",
      " [-1.01645447e+00]\n",
      " [ 1.14518352e+00]\n",
      " [ 2.54662532e+00]\n",
      " [ 7.42969097e-02]\n",
      " [ 1.14676437e+00]\n",
      " [-9.47092023e-02]\n",
      " [ 1.85340674e+00]\n",
      " [ 9.76907705e-01]\n",
      " [ 7.58316059e-01]\n",
      " [-1.22081723e-01]\n",
      " [-9.10938461e-01]\n",
      " [ 1.15118485e+00]\n",
      " [ 1.40832180e+00]\n",
      " [ 4.21756378e-01]\n",
      " [ 6.03733896e-01]\n",
      " [ 5.69958482e-02]\n",
      " [-6.29598143e-01]\n",
      " [ 2.34809064e+00]\n",
      " [-1.04029332e+00]\n",
      " [ 2.62533062e+00]\n",
      " [-1.04746681e+00]\n",
      " [ 1.12889206e-01]\n",
      " [ 4.45056782e-02]\n",
      " [-4.84969806e-01]\n",
      " [-1.35944536e-02]\n",
      " [-1.28008943e+00]]\n"
     ]
    }
   ],
   "source": [
    "print(ldata)"
   ]
  },
  {
   "cell_type": "code",
   "execution_count": 64,
   "metadata": {},
   "outputs": [],
   "source": [
    "lydata = lda.fit(X,Y)"
   ]
  },
  {
   "cell_type": "code",
   "execution_count": 66,
   "metadata": {},
   "outputs": [
    {
     "data": {
      "text/plain": [
       "LinearDiscriminantAnalysis(n_components=4, priors=None, shrinkage=None,\n",
       "              solver='svd', store_covariance=False, tol=0.0001)"
      ]
     },
     "execution_count": 66,
     "metadata": {},
     "output_type": "execute_result"
    }
   ],
   "source": [
    "lda.fit(X,Y)"
   ]
  },
  {
   "cell_type": "code",
   "execution_count": 68,
   "metadata": {},
   "outputs": [],
   "source": [
    "X_train , X_test , Y_train ,Y_test = train_test_split(X,Y,random_state=0,test_size=0.20)"
   ]
  },
  {
   "cell_type": "code",
   "execution_count": 69,
   "metadata": {},
   "outputs": [],
   "source": [
    "l_pred=lda.predict(X_test)"
   ]
  },
  {
   "cell_type": "code",
   "execution_count": 75,
   "metadata": {},
   "outputs": [
    {
     "data": {
      "text/plain": [
       "LinearDiscriminantAnalysis(n_components=4, priors=None, shrinkage=None,\n",
       "              solver='svd', store_covariance=False, tol=0.0001)"
      ]
     },
     "execution_count": 75,
     "metadata": {},
     "output_type": "execute_result"
    }
   ],
   "source": [
    "lda.fit(X_train,Y_train)"
   ]
  },
  {
   "cell_type": "code",
   "execution_count": 76,
   "metadata": {},
   "outputs": [],
   "source": [
    "l_pred=lda.predict(X_test)"
   ]
  },
  {
   "cell_type": "code",
   "execution_count": 77,
   "metadata": {},
   "outputs": [
    {
     "name": "stdout",
     "output_type": "stream",
     "text": [
      "0.8246753246753247\n"
     ]
    }
   ],
   "source": [
    "print(accuracy_score(Y_test,l_pred))"
   ]
  },
  {
   "cell_type": "code",
   "execution_count": 78,
   "metadata": {},
   "outputs": [],
   "source": [
    "filename = 'model13.sav'\n",
    "pc.dump(lda,open(filename,'wb'))"
   ]
  },
  {
   "cell_type": "code",
   "execution_count": 79,
   "metadata": {},
   "outputs": [],
   "source": [
    "lda = LDA(n_components=2)\n",
    "ldata = lda.fit_transform(X,Y)\n",
    "X_train , X_test , Y_train ,Y_test = train_test_split(X,Y,random_state=0,test_size=0.20)\n"
   ]
  },
  {
   "cell_type": "code",
   "execution_count": 80,
   "metadata": {},
   "outputs": [
    {
     "data": {
      "text/plain": [
       "LinearDiscriminantAnalysis(n_components=2, priors=None, shrinkage=None,\n",
       "              solver='svd', store_covariance=False, tol=0.0001)"
      ]
     },
     "execution_count": 80,
     "metadata": {},
     "output_type": "execute_result"
    }
   ],
   "source": [
    "lda.fit(X_train,Y_train)"
   ]
  },
  {
   "cell_type": "code",
   "execution_count": 81,
   "metadata": {},
   "outputs": [
    {
     "name": "stdout",
     "output_type": "stream",
     "text": [
      "0.8246753246753247\n"
     ]
    }
   ],
   "source": [
    "l_pred=lda.predict(X_test)\n",
    "print(accuracy_score(Y_test,l_pred))"
   ]
  },
  {
   "cell_type": "code",
   "execution_count": null,
   "metadata": {},
   "outputs": [],
   "source": []
  }
 ],
 "metadata": {
  "kernelspec": {
   "display_name": "Python 3",
   "language": "python",
   "name": "python3"
  },
  "language_info": {
   "codemirror_mode": {
    "name": "ipython",
    "version": 3
   },
   "file_extension": ".py",
   "mimetype": "text/x-python",
   "name": "python",
   "nbconvert_exporter": "python",
   "pygments_lexer": "ipython3",
   "version": "3.7.1"
  }
 },
 "nbformat": 4,
 "nbformat_minor": 2
}
